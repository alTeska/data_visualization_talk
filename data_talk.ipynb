{
 "cells": [
  {
   "cell_type": "code",
   "execution_count": 1,
   "metadata": {
    "slideshow": {
     "slide_type": "skip"
    }
   },
   "outputs": [],
   "source": [
    "from IPython.display import HTML, IFrame, Image\n",
    "\n",
    "import numpy as np\n",
    "import matplotlib\n",
    "import matplotlib.pyplot as plt\n",
    "from scipy import stats\n",
    "%matplotlib inline"
   ]
  },
  {
   "cell_type": "code",
   "execution_count": 2,
   "metadata": {
    "slideshow": {
     "slide_type": "skip"
    }
   },
   "outputs": [],
   "source": [
    "from matplotlib import rcParams\n",
    "rcParams['grid.linewidth'] = 0"
   ]
  },
  {
   "cell_type": "markdown",
   "metadata": {
    "slideshow": {
     "slide_type": "slide"
    }
   },
   "source": [
    "# Visualizing Big Datasets: Tools, Pitfalls, Experimental Example"
   ]
  },
  {
   "cell_type": "markdown",
   "metadata": {
    "slideshow": {
     "slide_type": "fragment"
    }
   },
   "source": [
    "## Importance of Data Visualization - NYC Taxi pick-upp data"
   ]
  },
  {
   "cell_type": "markdown",
   "metadata": {
    "slideshow": {
     "slide_type": "fragment"
    }
   },
   "source": [
    "<img src=\"./images/nyc_pickups_vs_dropoffs.jpg\"  width=\"900\" height=\"900\"/>"
   ]
  },
  {
   "cell_type": "markdown",
   "metadata": {
    "slideshow": {
     "slide_type": "slide"
    }
   },
   "source": [
    "## Plotting very large datasets meaningfully"
   ]
  },
  {
   "cell_type": "markdown",
   "metadata": {
    "slideshow": {
     "slide_type": "fragment"
    }
   },
   "source": [
    "- provides clealear understanding\n",
    "- aids decision making \n",
    "\n",
    "You can not examine all the points yourself!"
   ]
  },
  {
   "cell_type": "markdown",
   "metadata": {
    "slideshow": {
     "slide_type": "notes"
    }
   },
   "source": [
    "When working with large datasets, visualizations are often the only way available to understand the properties of that dataset -- there are simply too many data points to examine each one!  Thus it is very important to be aware of some common plotting problems that are minor inconveniences with small datasets but very serious problems with larger ones."
   ]
  },
  {
   "cell_type": "markdown",
   "metadata": {
    "slideshow": {
     "slide_type": "subslide"
    }
   },
   "source": [
    "<img src=\"./images/6-blind-men-hans.jpg\"  width=\"700\" height=\"700\"/>"
   ]
  },
  {
   "cell_type": "markdown",
   "metadata": {
    "slideshow": {
     "slide_type": "subslide"
    }
   },
   "source": [
    "\n",
    "<img src=\"./images/data_science_process.png\"  width=\"500\" height=\"500\"/>"
   ]
  },
  {
   "cell_type": "markdown",
   "metadata": {
    "slideshow": {
     "slide_type": "subslide"
    }
   },
   "source": [
    "<img src=\"./images/index.jpeg\"  width=\"500\" height=\"500\"/> \n",
    "<img src=\"./images/python-graph-gallery1-609.jpg\"  width=\"500\" height=\"500\"/>\n",
    "https://python-graph-gallery.com/"
   ]
  },
  {
   "cell_type": "markdown",
   "metadata": {
    "slideshow": {
     "slide_type": "slide"
    }
   },
   "source": [
    "# Presentation Outine:\n",
    "- Tools introduction\n",
    "- Ratcave VR Acuity introduction\n",
    "- Pitfalls of Large Datasets Vizualization with Real Data Example"
   ]
  },
  {
   "cell_type": "markdown",
   "metadata": {
    "slideshow": {
     "slide_type": "subslide"
    }
   },
   "source": [
    "# Tools: Pandas, Seaborn, Datashader"
   ]
  },
  {
   "cell_type": "markdown",
   "metadata": {
    "slideshow": {
     "slide_type": "subslide"
    }
   },
   "source": [
    "![Image](./images/pandas.png)"
   ]
  },
  {
   "cell_type": "markdown",
   "metadata": {},
   "source": [
    "Python Library providing high-performance data manipulation and analysis tool using its powerful data structures"
   ]
  },
  {
   "cell_type": "markdown",
   "metadata": {
    "slideshow": {
     "slide_type": "notes"
    }
   },
   "source": [
    "Key Features of Pandas:\n",
    "- Fast and efficient DataFrame object with default and customized indexing.\n",
    "- Loading data into in-memory data objects from different file formats.\n",
    "- Data alignment and handling of missing data.\n",
    "- Reshaping, operations on columns\n",
    "- Label-based slicing, indexing and subsetting of large data sets.\n",
    "- Group by data, mergeging and joining of data\n",
    "- Time Series functionality.\n"
   ]
  },
  {
   "cell_type": "code",
   "execution_count": 3,
   "metadata": {
    "slideshow": {
     "slide_type": "-"
    }
   },
   "outputs": [],
   "source": [
    "import pandas as pd"
   ]
  },
  {
   "cell_type": "code",
   "execution_count": 4,
   "metadata": {
    "slideshow": {
     "slide_type": "subslide"
    }
   },
   "outputs": [
    {
     "data": {
      "text/html": [
       "<div>\n",
       "<style scoped>\n",
       "    .dataframe tbody tr th:only-of-type {\n",
       "        vertical-align: middle;\n",
       "    }\n",
       "\n",
       "    .dataframe tbody tr th {\n",
       "        vertical-align: top;\n",
       "    }\n",
       "\n",
       "    .dataframe thead th {\n",
       "        text-align: right;\n",
       "    }\n",
       "</style>\n",
       "<table border=\"1\" class=\"dataframe\">\n",
       "  <thead>\n",
       "    <tr style=\"text-align: right;\">\n",
       "      <th></th>\n",
       "      <th>X</th>\n",
       "      <th>Y</th>\n",
       "      <th>Z</th>\n",
       "    </tr>\n",
       "  </thead>\n",
       "  <tbody>\n",
       "    <tr>\n",
       "      <th>0</th>\n",
       "      <td>-1.404170</td>\n",
       "      <td>0.114512</td>\n",
       "      <td>1.254152</td>\n",
       "    </tr>\n",
       "    <tr>\n",
       "      <th>1</th>\n",
       "      <td>1.189592</td>\n",
       "      <td>-1.140142</td>\n",
       "      <td>1.736201</td>\n",
       "    </tr>\n",
       "    <tr>\n",
       "      <th>2</th>\n",
       "      <td>1.706299</td>\n",
       "      <td>0.528152</td>\n",
       "      <td>-0.450680</td>\n",
       "    </tr>\n",
       "    <tr>\n",
       "      <th>3</th>\n",
       "      <td>1.589957</td>\n",
       "      <td>1.037004</td>\n",
       "      <td>0.698966</td>\n",
       "    </tr>\n",
       "    <tr>\n",
       "      <th>4</th>\n",
       "      <td>1.284791</td>\n",
       "      <td>1.279371</td>\n",
       "      <td>0.028194</td>\n",
       "    </tr>\n",
       "    <tr>\n",
       "      <th>5</th>\n",
       "      <td>1.047938</td>\n",
       "      <td>0.901777</td>\n",
       "      <td>1.204611</td>\n",
       "    </tr>\n",
       "    <tr>\n",
       "      <th>6</th>\n",
       "      <td>-0.733735</td>\n",
       "      <td>-0.922846</td>\n",
       "      <td>1.468810</td>\n",
       "    </tr>\n",
       "    <tr>\n",
       "      <th>7</th>\n",
       "      <td>0.001692</td>\n",
       "      <td>0.203503</td>\n",
       "      <td>1.215376</td>\n",
       "    </tr>\n",
       "    <tr>\n",
       "      <th>8</th>\n",
       "      <td>1.416405</td>\n",
       "      <td>-0.151846</td>\n",
       "      <td>-1.306256</td>\n",
       "    </tr>\n",
       "    <tr>\n",
       "      <th>9</th>\n",
       "      <td>0.021177</td>\n",
       "      <td>-0.305875</td>\n",
       "      <td>0.857540</td>\n",
       "    </tr>\n",
       "    <tr>\n",
       "      <th>10</th>\n",
       "      <td>2.141711</td>\n",
       "      <td>0.272718</td>\n",
       "      <td>0.406503</td>\n",
       "    </tr>\n",
       "    <tr>\n",
       "      <th>11</th>\n",
       "      <td>-0.657691</td>\n",
       "      <td>-0.343340</td>\n",
       "      <td>-0.119098</td>\n",
       "    </tr>\n",
       "    <tr>\n",
       "      <th>12</th>\n",
       "      <td>0.425539</td>\n",
       "      <td>-0.143498</td>\n",
       "      <td>0.124151</td>\n",
       "    </tr>\n",
       "    <tr>\n",
       "      <th>13</th>\n",
       "      <td>0.329264</td>\n",
       "      <td>-0.479440</td>\n",
       "      <td>0.502622</td>\n",
       "    </tr>\n",
       "    <tr>\n",
       "      <th>14</th>\n",
       "      <td>-0.241646</td>\n",
       "      <td>-1.164820</td>\n",
       "      <td>0.256287</td>\n",
       "    </tr>\n",
       "    <tr>\n",
       "      <th>15</th>\n",
       "      <td>0.784012</td>\n",
       "      <td>-0.328147</td>\n",
       "      <td>-0.530644</td>\n",
       "    </tr>\n",
       "    <tr>\n",
       "      <th>16</th>\n",
       "      <td>-0.618862</td>\n",
       "      <td>0.355634</td>\n",
       "      <td>-0.045312</td>\n",
       "    </tr>\n",
       "    <tr>\n",
       "      <th>17</th>\n",
       "      <td>1.247011</td>\n",
       "      <td>-0.894605</td>\n",
       "      <td>0.257393</td>\n",
       "    </tr>\n",
       "    <tr>\n",
       "      <th>18</th>\n",
       "      <td>1.042034</td>\n",
       "      <td>-0.098530</td>\n",
       "      <td>-0.705649</td>\n",
       "    </tr>\n",
       "    <tr>\n",
       "      <th>19</th>\n",
       "      <td>-0.379201</td>\n",
       "      <td>-1.027209</td>\n",
       "      <td>0.004819</td>\n",
       "    </tr>\n",
       "    <tr>\n",
       "      <th>20</th>\n",
       "      <td>1.052351</td>\n",
       "      <td>-0.499646</td>\n",
       "      <td>1.053855</td>\n",
       "    </tr>\n",
       "    <tr>\n",
       "      <th>21</th>\n",
       "      <td>1.657182</td>\n",
       "      <td>1.470427</td>\n",
       "      <td>-0.278184</td>\n",
       "    </tr>\n",
       "    <tr>\n",
       "      <th>22</th>\n",
       "      <td>-0.650239</td>\n",
       "      <td>1.518140</td>\n",
       "      <td>0.814676</td>\n",
       "    </tr>\n",
       "    <tr>\n",
       "      <th>23</th>\n",
       "      <td>-0.528855</td>\n",
       "      <td>-1.006592</td>\n",
       "      <td>0.510922</td>\n",
       "    </tr>\n",
       "    <tr>\n",
       "      <th>24</th>\n",
       "      <td>-0.374273</td>\n",
       "      <td>0.132609</td>\n",
       "      <td>-0.376567</td>\n",
       "    </tr>\n",
       "    <tr>\n",
       "      <th>25</th>\n",
       "      <td>-0.974806</td>\n",
       "      <td>-1.423477</td>\n",
       "      <td>-0.033847</td>\n",
       "    </tr>\n",
       "    <tr>\n",
       "      <th>26</th>\n",
       "      <td>-0.236549</td>\n",
       "      <td>-0.880017</td>\n",
       "      <td>0.345762</td>\n",
       "    </tr>\n",
       "    <tr>\n",
       "      <th>27</th>\n",
       "      <td>1.011984</td>\n",
       "      <td>-1.156537</td>\n",
       "      <td>-0.394545</td>\n",
       "    </tr>\n",
       "    <tr>\n",
       "      <th>28</th>\n",
       "      <td>0.952804</td>\n",
       "      <td>0.365539</td>\n",
       "      <td>1.577925</td>\n",
       "    </tr>\n",
       "    <tr>\n",
       "      <th>29</th>\n",
       "      <td>-0.628504</td>\n",
       "      <td>-0.375065</td>\n",
       "      <td>1.366823</td>\n",
       "    </tr>\n",
       "    <tr>\n",
       "      <th>...</th>\n",
       "      <td>...</td>\n",
       "      <td>...</td>\n",
       "      <td>...</td>\n",
       "    </tr>\n",
       "    <tr>\n",
       "      <th>470</th>\n",
       "      <td>0.645472</td>\n",
       "      <td>0.629062</td>\n",
       "      <td>0.059950</td>\n",
       "    </tr>\n",
       "    <tr>\n",
       "      <th>471</th>\n",
       "      <td>0.044822</td>\n",
       "      <td>0.457301</td>\n",
       "      <td>0.117861</td>\n",
       "    </tr>\n",
       "    <tr>\n",
       "      <th>472</th>\n",
       "      <td>-0.564311</td>\n",
       "      <td>-1.308461</td>\n",
       "      <td>0.646422</td>\n",
       "    </tr>\n",
       "    <tr>\n",
       "      <th>473</th>\n",
       "      <td>1.028310</td>\n",
       "      <td>-1.356938</td>\n",
       "      <td>-1.175349</td>\n",
       "    </tr>\n",
       "    <tr>\n",
       "      <th>474</th>\n",
       "      <td>1.502698</td>\n",
       "      <td>0.469080</td>\n",
       "      <td>-0.534669</td>\n",
       "    </tr>\n",
       "    <tr>\n",
       "      <th>475</th>\n",
       "      <td>-0.226032</td>\n",
       "      <td>-0.547188</td>\n",
       "      <td>0.030926</td>\n",
       "    </tr>\n",
       "    <tr>\n",
       "      <th>476</th>\n",
       "      <td>0.141180</td>\n",
       "      <td>-1.046109</td>\n",
       "      <td>0.873054</td>\n",
       "    </tr>\n",
       "    <tr>\n",
       "      <th>477</th>\n",
       "      <td>-0.343880</td>\n",
       "      <td>-1.032362</td>\n",
       "      <td>-1.520307</td>\n",
       "    </tr>\n",
       "    <tr>\n",
       "      <th>478</th>\n",
       "      <td>-0.718877</td>\n",
       "      <td>-0.409121</td>\n",
       "      <td>-1.151336</td>\n",
       "    </tr>\n",
       "    <tr>\n",
       "      <th>479</th>\n",
       "      <td>-0.458220</td>\n",
       "      <td>1.547143</td>\n",
       "      <td>0.863451</td>\n",
       "    </tr>\n",
       "    <tr>\n",
       "      <th>480</th>\n",
       "      <td>-0.788595</td>\n",
       "      <td>0.059826</td>\n",
       "      <td>0.732064</td>\n",
       "    </tr>\n",
       "    <tr>\n",
       "      <th>481</th>\n",
       "      <td>-0.618225</td>\n",
       "      <td>0.749672</td>\n",
       "      <td>-0.657227</td>\n",
       "    </tr>\n",
       "    <tr>\n",
       "      <th>482</th>\n",
       "      <td>0.385789</td>\n",
       "      <td>-0.139071</td>\n",
       "      <td>0.314902</td>\n",
       "    </tr>\n",
       "    <tr>\n",
       "      <th>483</th>\n",
       "      <td>0.131782</td>\n",
       "      <td>-0.038101</td>\n",
       "      <td>0.546877</td>\n",
       "    </tr>\n",
       "    <tr>\n",
       "      <th>484</th>\n",
       "      <td>0.604079</td>\n",
       "      <td>0.380879</td>\n",
       "      <td>-0.838074</td>\n",
       "    </tr>\n",
       "    <tr>\n",
       "      <th>485</th>\n",
       "      <td>-0.371465</td>\n",
       "      <td>0.514072</td>\n",
       "      <td>-1.356791</td>\n",
       "    </tr>\n",
       "    <tr>\n",
       "      <th>486</th>\n",
       "      <td>0.357404</td>\n",
       "      <td>-0.756398</td>\n",
       "      <td>-0.194669</td>\n",
       "    </tr>\n",
       "    <tr>\n",
       "      <th>487</th>\n",
       "      <td>-1.635759</td>\n",
       "      <td>-0.664679</td>\n",
       "      <td>0.218732</td>\n",
       "    </tr>\n",
       "    <tr>\n",
       "      <th>488</th>\n",
       "      <td>-0.231671</td>\n",
       "      <td>0.899140</td>\n",
       "      <td>0.443062</td>\n",
       "    </tr>\n",
       "    <tr>\n",
       "      <th>489</th>\n",
       "      <td>0.666153</td>\n",
       "      <td>1.104779</td>\n",
       "      <td>-0.096388</td>\n",
       "    </tr>\n",
       "    <tr>\n",
       "      <th>490</th>\n",
       "      <td>0.073312</td>\n",
       "      <td>-0.413078</td>\n",
       "      <td>-0.150653</td>\n",
       "    </tr>\n",
       "    <tr>\n",
       "      <th>491</th>\n",
       "      <td>-1.046765</td>\n",
       "      <td>-0.693087</td>\n",
       "      <td>-0.320978</td>\n",
       "    </tr>\n",
       "    <tr>\n",
       "      <th>492</th>\n",
       "      <td>0.305025</td>\n",
       "      <td>1.849924</td>\n",
       "      <td>-0.902112</td>\n",
       "    </tr>\n",
       "    <tr>\n",
       "      <th>493</th>\n",
       "      <td>0.204440</td>\n",
       "      <td>-0.466100</td>\n",
       "      <td>-1.137503</td>\n",
       "    </tr>\n",
       "    <tr>\n",
       "      <th>494</th>\n",
       "      <td>0.694313</td>\n",
       "      <td>-0.923380</td>\n",
       "      <td>-1.091460</td>\n",
       "    </tr>\n",
       "    <tr>\n",
       "      <th>495</th>\n",
       "      <td>-0.095298</td>\n",
       "      <td>-0.198961</td>\n",
       "      <td>1.075404</td>\n",
       "    </tr>\n",
       "    <tr>\n",
       "      <th>496</th>\n",
       "      <td>-0.851257</td>\n",
       "      <td>-0.340886</td>\n",
       "      <td>0.569404</td>\n",
       "    </tr>\n",
       "    <tr>\n",
       "      <th>497</th>\n",
       "      <td>0.035404</td>\n",
       "      <td>0.476024</td>\n",
       "      <td>0.494377</td>\n",
       "    </tr>\n",
       "    <tr>\n",
       "      <th>498</th>\n",
       "      <td>-0.540346</td>\n",
       "      <td>-0.916548</td>\n",
       "      <td>-0.160882</td>\n",
       "    </tr>\n",
       "    <tr>\n",
       "      <th>499</th>\n",
       "      <td>-0.786495</td>\n",
       "      <td>0.490177</td>\n",
       "      <td>0.995029</td>\n",
       "    </tr>\n",
       "  </tbody>\n",
       "</table>\n",
       "<p>500 rows × 3 columns</p>\n",
       "</div>"
      ],
      "text/plain": [
       "            X         Y         Z\n",
       "0   -1.404170  0.114512  1.254152\n",
       "1    1.189592 -1.140142  1.736201\n",
       "2    1.706299  0.528152 -0.450680\n",
       "3    1.589957  1.037004  0.698966\n",
       "4    1.284791  1.279371  0.028194\n",
       "5    1.047938  0.901777  1.204611\n",
       "6   -0.733735 -0.922846  1.468810\n",
       "7    0.001692  0.203503  1.215376\n",
       "8    1.416405 -0.151846 -1.306256\n",
       "9    0.021177 -0.305875  0.857540\n",
       "10   2.141711  0.272718  0.406503\n",
       "11  -0.657691 -0.343340 -0.119098\n",
       "12   0.425539 -0.143498  0.124151\n",
       "13   0.329264 -0.479440  0.502622\n",
       "14  -0.241646 -1.164820  0.256287\n",
       "15   0.784012 -0.328147 -0.530644\n",
       "16  -0.618862  0.355634 -0.045312\n",
       "17   1.247011 -0.894605  0.257393\n",
       "18   1.042034 -0.098530 -0.705649\n",
       "19  -0.379201 -1.027209  0.004819\n",
       "20   1.052351 -0.499646  1.053855\n",
       "21   1.657182  1.470427 -0.278184\n",
       "22  -0.650239  1.518140  0.814676\n",
       "23  -0.528855 -1.006592  0.510922\n",
       "24  -0.374273  0.132609 -0.376567\n",
       "25  -0.974806 -1.423477 -0.033847\n",
       "26  -0.236549 -0.880017  0.345762\n",
       "27   1.011984 -1.156537 -0.394545\n",
       "28   0.952804  0.365539  1.577925\n",
       "29  -0.628504 -0.375065  1.366823\n",
       "..        ...       ...       ...\n",
       "470  0.645472  0.629062  0.059950\n",
       "471  0.044822  0.457301  0.117861\n",
       "472 -0.564311 -1.308461  0.646422\n",
       "473  1.028310 -1.356938 -1.175349\n",
       "474  1.502698  0.469080 -0.534669\n",
       "475 -0.226032 -0.547188  0.030926\n",
       "476  0.141180 -1.046109  0.873054\n",
       "477 -0.343880 -1.032362 -1.520307\n",
       "478 -0.718877 -0.409121 -1.151336\n",
       "479 -0.458220  1.547143  0.863451\n",
       "480 -0.788595  0.059826  0.732064\n",
       "481 -0.618225  0.749672 -0.657227\n",
       "482  0.385789 -0.139071  0.314902\n",
       "483  0.131782 -0.038101  0.546877\n",
       "484  0.604079  0.380879 -0.838074\n",
       "485 -0.371465  0.514072 -1.356791\n",
       "486  0.357404 -0.756398 -0.194669\n",
       "487 -1.635759 -0.664679  0.218732\n",
       "488 -0.231671  0.899140  0.443062\n",
       "489  0.666153  1.104779 -0.096388\n",
       "490  0.073312 -0.413078 -0.150653\n",
       "491 -1.046765 -0.693087 -0.320978\n",
       "492  0.305025  1.849924 -0.902112\n",
       "493  0.204440 -0.466100 -1.137503\n",
       "494  0.694313 -0.923380 -1.091460\n",
       "495 -0.095298 -0.198961  1.075404\n",
       "496 -0.851257 -0.340886  0.569404\n",
       "497  0.035404  0.476024  0.494377\n",
       "498 -0.540346 -0.916548 -0.160882\n",
       "499 -0.786495  0.490177  0.995029\n",
       "\n",
       "[500 rows x 3 columns]"
      ]
     },
     "execution_count": 4,
     "metadata": {},
     "output_type": "execute_result"
    }
   ],
   "source": [
    "# Creating structured dataset\n",
    "data = pd.DataFrame(np.random.randn(500,3), columns=list('XYZ'))\n",
    "data"
   ]
  },
  {
   "cell_type": "code",
   "execution_count": 5,
   "metadata": {},
   "outputs": [
    {
     "data": {
      "text/html": [
       "<div>\n",
       "<style scoped>\n",
       "    .dataframe tbody tr th:only-of-type {\n",
       "        vertical-align: middle;\n",
       "    }\n",
       "\n",
       "    .dataframe tbody tr th {\n",
       "        vertical-align: top;\n",
       "    }\n",
       "\n",
       "    .dataframe thead th {\n",
       "        text-align: right;\n",
       "    }\n",
       "</style>\n",
       "<table border=\"1\" class=\"dataframe\">\n",
       "  <thead>\n",
       "    <tr style=\"text-align: right;\">\n",
       "      <th></th>\n",
       "      <th>X</th>\n",
       "      <th>Y</th>\n",
       "      <th>Z</th>\n",
       "    </tr>\n",
       "  </thead>\n",
       "  <tbody>\n",
       "    <tr>\n",
       "      <th>0</th>\n",
       "      <td>-28.083407</td>\n",
       "      <td>0.114512</td>\n",
       "      <td>1.254152</td>\n",
       "    </tr>\n",
       "    <tr>\n",
       "      <th>1</th>\n",
       "      <td>23.791847</td>\n",
       "      <td>-1.140142</td>\n",
       "      <td>1.736201</td>\n",
       "    </tr>\n",
       "    <tr>\n",
       "      <th>2</th>\n",
       "      <td>34.125978</td>\n",
       "      <td>0.528152</td>\n",
       "      <td>-0.450680</td>\n",
       "    </tr>\n",
       "    <tr>\n",
       "      <th>3</th>\n",
       "      <td>31.799139</td>\n",
       "      <td>1.037004</td>\n",
       "      <td>0.698966</td>\n",
       "    </tr>\n",
       "    <tr>\n",
       "      <th>4</th>\n",
       "      <td>25.695819</td>\n",
       "      <td>1.279371</td>\n",
       "      <td>0.028194</td>\n",
       "    </tr>\n",
       "    <tr>\n",
       "      <th>5</th>\n",
       "      <td>20.958758</td>\n",
       "      <td>0.901777</td>\n",
       "      <td>1.204611</td>\n",
       "    </tr>\n",
       "    <tr>\n",
       "      <th>6</th>\n",
       "      <td>-14.674700</td>\n",
       "      <td>-0.922846</td>\n",
       "      <td>1.468810</td>\n",
       "    </tr>\n",
       "    <tr>\n",
       "      <th>7</th>\n",
       "      <td>0.033849</td>\n",
       "      <td>0.203503</td>\n",
       "      <td>1.215376</td>\n",
       "    </tr>\n",
       "    <tr>\n",
       "      <th>8</th>\n",
       "      <td>28.328095</td>\n",
       "      <td>-0.151846</td>\n",
       "      <td>-1.306256</td>\n",
       "    </tr>\n",
       "    <tr>\n",
       "      <th>9</th>\n",
       "      <td>0.423533</td>\n",
       "      <td>-0.305875</td>\n",
       "      <td>0.857540</td>\n",
       "    </tr>\n",
       "    <tr>\n",
       "      <th>10</th>\n",
       "      <td>42.834216</td>\n",
       "      <td>0.272718</td>\n",
       "      <td>0.406503</td>\n",
       "    </tr>\n",
       "    <tr>\n",
       "      <th>11</th>\n",
       "      <td>-13.153816</td>\n",
       "      <td>-0.343340</td>\n",
       "      <td>-0.119098</td>\n",
       "    </tr>\n",
       "    <tr>\n",
       "      <th>12</th>\n",
       "      <td>8.510772</td>\n",
       "      <td>-0.143498</td>\n",
       "      <td>0.124151</td>\n",
       "    </tr>\n",
       "    <tr>\n",
       "      <th>13</th>\n",
       "      <td>6.585285</td>\n",
       "      <td>-0.479440</td>\n",
       "      <td>0.502622</td>\n",
       "    </tr>\n",
       "    <tr>\n",
       "      <th>14</th>\n",
       "      <td>-4.832926</td>\n",
       "      <td>-1.164820</td>\n",
       "      <td>0.256287</td>\n",
       "    </tr>\n",
       "    <tr>\n",
       "      <th>15</th>\n",
       "      <td>15.680244</td>\n",
       "      <td>-0.328147</td>\n",
       "      <td>-0.530644</td>\n",
       "    </tr>\n",
       "    <tr>\n",
       "      <th>16</th>\n",
       "      <td>-12.377231</td>\n",
       "      <td>0.355634</td>\n",
       "      <td>-0.045312</td>\n",
       "    </tr>\n",
       "    <tr>\n",
       "      <th>17</th>\n",
       "      <td>24.940213</td>\n",
       "      <td>-0.894605</td>\n",
       "      <td>0.257393</td>\n",
       "    </tr>\n",
       "    <tr>\n",
       "      <th>18</th>\n",
       "      <td>20.840675</td>\n",
       "      <td>-0.098530</td>\n",
       "      <td>-0.705649</td>\n",
       "    </tr>\n",
       "    <tr>\n",
       "      <th>19</th>\n",
       "      <td>-7.584019</td>\n",
       "      <td>-1.027209</td>\n",
       "      <td>0.004819</td>\n",
       "    </tr>\n",
       "    <tr>\n",
       "      <th>20</th>\n",
       "      <td>21.047010</td>\n",
       "      <td>-0.499646</td>\n",
       "      <td>1.053855</td>\n",
       "    </tr>\n",
       "    <tr>\n",
       "      <th>21</th>\n",
       "      <td>33.143638</td>\n",
       "      <td>1.470427</td>\n",
       "      <td>-0.278184</td>\n",
       "    </tr>\n",
       "    <tr>\n",
       "      <th>22</th>\n",
       "      <td>-13.004777</td>\n",
       "      <td>1.518140</td>\n",
       "      <td>0.814676</td>\n",
       "    </tr>\n",
       "    <tr>\n",
       "      <th>23</th>\n",
       "      <td>-10.577105</td>\n",
       "      <td>-1.006592</td>\n",
       "      <td>0.510922</td>\n",
       "    </tr>\n",
       "    <tr>\n",
       "      <th>24</th>\n",
       "      <td>-7.485465</td>\n",
       "      <td>0.132609</td>\n",
       "      <td>-0.376567</td>\n",
       "    </tr>\n",
       "    <tr>\n",
       "      <th>25</th>\n",
       "      <td>-19.496115</td>\n",
       "      <td>-1.423477</td>\n",
       "      <td>-0.033847</td>\n",
       "    </tr>\n",
       "    <tr>\n",
       "      <th>26</th>\n",
       "      <td>-4.730987</td>\n",
       "      <td>-0.880017</td>\n",
       "      <td>0.345762</td>\n",
       "    </tr>\n",
       "    <tr>\n",
       "      <th>27</th>\n",
       "      <td>20.239677</td>\n",
       "      <td>-1.156537</td>\n",
       "      <td>-0.394545</td>\n",
       "    </tr>\n",
       "    <tr>\n",
       "      <th>28</th>\n",
       "      <td>19.056076</td>\n",
       "      <td>0.365539</td>\n",
       "      <td>1.577925</td>\n",
       "    </tr>\n",
       "    <tr>\n",
       "      <th>29</th>\n",
       "      <td>-12.570078</td>\n",
       "      <td>-0.375065</td>\n",
       "      <td>1.366823</td>\n",
       "    </tr>\n",
       "    <tr>\n",
       "      <th>...</th>\n",
       "      <td>...</td>\n",
       "      <td>...</td>\n",
       "      <td>...</td>\n",
       "    </tr>\n",
       "    <tr>\n",
       "      <th>470</th>\n",
       "      <td>12.909437</td>\n",
       "      <td>0.629062</td>\n",
       "      <td>0.059950</td>\n",
       "    </tr>\n",
       "    <tr>\n",
       "      <th>471</th>\n",
       "      <td>0.896443</td>\n",
       "      <td>0.457301</td>\n",
       "      <td>0.117861</td>\n",
       "    </tr>\n",
       "    <tr>\n",
       "      <th>472</th>\n",
       "      <td>-11.286223</td>\n",
       "      <td>-1.308461</td>\n",
       "      <td>0.646422</td>\n",
       "    </tr>\n",
       "    <tr>\n",
       "      <th>473</th>\n",
       "      <td>20.566203</td>\n",
       "      <td>-1.356938</td>\n",
       "      <td>-1.175349</td>\n",
       "    </tr>\n",
       "    <tr>\n",
       "      <th>474</th>\n",
       "      <td>30.053966</td>\n",
       "      <td>0.469080</td>\n",
       "      <td>-0.534669</td>\n",
       "    </tr>\n",
       "    <tr>\n",
       "      <th>475</th>\n",
       "      <td>-4.520639</td>\n",
       "      <td>-0.547188</td>\n",
       "      <td>0.030926</td>\n",
       "    </tr>\n",
       "    <tr>\n",
       "      <th>476</th>\n",
       "      <td>2.823607</td>\n",
       "      <td>-1.046109</td>\n",
       "      <td>0.873054</td>\n",
       "    </tr>\n",
       "    <tr>\n",
       "      <th>477</th>\n",
       "      <td>-6.877602</td>\n",
       "      <td>-1.032362</td>\n",
       "      <td>-1.520307</td>\n",
       "    </tr>\n",
       "    <tr>\n",
       "      <th>478</th>\n",
       "      <td>-14.377546</td>\n",
       "      <td>-0.409121</td>\n",
       "      <td>-1.151336</td>\n",
       "    </tr>\n",
       "    <tr>\n",
       "      <th>479</th>\n",
       "      <td>-9.164406</td>\n",
       "      <td>1.547143</td>\n",
       "      <td>0.863451</td>\n",
       "    </tr>\n",
       "    <tr>\n",
       "      <th>480</th>\n",
       "      <td>-15.771894</td>\n",
       "      <td>0.059826</td>\n",
       "      <td>0.732064</td>\n",
       "    </tr>\n",
       "    <tr>\n",
       "      <th>481</th>\n",
       "      <td>-12.364507</td>\n",
       "      <td>0.749672</td>\n",
       "      <td>-0.657227</td>\n",
       "    </tr>\n",
       "    <tr>\n",
       "      <th>482</th>\n",
       "      <td>7.715782</td>\n",
       "      <td>-0.139071</td>\n",
       "      <td>0.314902</td>\n",
       "    </tr>\n",
       "    <tr>\n",
       "      <th>483</th>\n",
       "      <td>2.635636</td>\n",
       "      <td>-0.038101</td>\n",
       "      <td>0.546877</td>\n",
       "    </tr>\n",
       "    <tr>\n",
       "      <th>484</th>\n",
       "      <td>12.081582</td>\n",
       "      <td>0.380879</td>\n",
       "      <td>-0.838074</td>\n",
       "    </tr>\n",
       "    <tr>\n",
       "      <th>485</th>\n",
       "      <td>-7.429301</td>\n",
       "      <td>0.514072</td>\n",
       "      <td>-1.356791</td>\n",
       "    </tr>\n",
       "    <tr>\n",
       "      <th>486</th>\n",
       "      <td>7.148083</td>\n",
       "      <td>-0.756398</td>\n",
       "      <td>-0.194669</td>\n",
       "    </tr>\n",
       "    <tr>\n",
       "      <th>487</th>\n",
       "      <td>-32.715184</td>\n",
       "      <td>-0.664679</td>\n",
       "      <td>0.218732</td>\n",
       "    </tr>\n",
       "    <tr>\n",
       "      <th>488</th>\n",
       "      <td>-4.633424</td>\n",
       "      <td>0.899140</td>\n",
       "      <td>0.443062</td>\n",
       "    </tr>\n",
       "    <tr>\n",
       "      <th>489</th>\n",
       "      <td>13.323050</td>\n",
       "      <td>1.104779</td>\n",
       "      <td>-0.096388</td>\n",
       "    </tr>\n",
       "    <tr>\n",
       "      <th>490</th>\n",
       "      <td>1.466242</td>\n",
       "      <td>-0.413078</td>\n",
       "      <td>-0.150653</td>\n",
       "    </tr>\n",
       "    <tr>\n",
       "      <th>491</th>\n",
       "      <td>-20.935309</td>\n",
       "      <td>-0.693087</td>\n",
       "      <td>-0.320978</td>\n",
       "    </tr>\n",
       "    <tr>\n",
       "      <th>492</th>\n",
       "      <td>6.100508</td>\n",
       "      <td>1.849924</td>\n",
       "      <td>-0.902112</td>\n",
       "    </tr>\n",
       "    <tr>\n",
       "      <th>493</th>\n",
       "      <td>4.088808</td>\n",
       "      <td>-0.466100</td>\n",
       "      <td>-1.137503</td>\n",
       "    </tr>\n",
       "    <tr>\n",
       "      <th>494</th>\n",
       "      <td>13.886258</td>\n",
       "      <td>-0.923380</td>\n",
       "      <td>-1.091460</td>\n",
       "    </tr>\n",
       "    <tr>\n",
       "      <th>495</th>\n",
       "      <td>-1.905964</td>\n",
       "      <td>-0.198961</td>\n",
       "      <td>1.075404</td>\n",
       "    </tr>\n",
       "    <tr>\n",
       "      <th>496</th>\n",
       "      <td>-17.025146</td>\n",
       "      <td>-0.340886</td>\n",
       "      <td>0.569404</td>\n",
       "    </tr>\n",
       "    <tr>\n",
       "      <th>497</th>\n",
       "      <td>0.708082</td>\n",
       "      <td>0.476024</td>\n",
       "      <td>0.494377</td>\n",
       "    </tr>\n",
       "    <tr>\n",
       "      <th>498</th>\n",
       "      <td>-10.806926</td>\n",
       "      <td>-0.916548</td>\n",
       "      <td>-0.160882</td>\n",
       "    </tr>\n",
       "    <tr>\n",
       "      <th>499</th>\n",
       "      <td>-15.729891</td>\n",
       "      <td>0.490177</td>\n",
       "      <td>0.995029</td>\n",
       "    </tr>\n",
       "  </tbody>\n",
       "</table>\n",
       "<p>500 rows × 3 columns</p>\n",
       "</div>"
      ],
      "text/plain": [
       "             X         Y         Z\n",
       "0   -28.083407  0.114512  1.254152\n",
       "1    23.791847 -1.140142  1.736201\n",
       "2    34.125978  0.528152 -0.450680\n",
       "3    31.799139  1.037004  0.698966\n",
       "4    25.695819  1.279371  0.028194\n",
       "5    20.958758  0.901777  1.204611\n",
       "6   -14.674700 -0.922846  1.468810\n",
       "7     0.033849  0.203503  1.215376\n",
       "8    28.328095 -0.151846 -1.306256\n",
       "9     0.423533 -0.305875  0.857540\n",
       "10   42.834216  0.272718  0.406503\n",
       "11  -13.153816 -0.343340 -0.119098\n",
       "12    8.510772 -0.143498  0.124151\n",
       "13    6.585285 -0.479440  0.502622\n",
       "14   -4.832926 -1.164820  0.256287\n",
       "15   15.680244 -0.328147 -0.530644\n",
       "16  -12.377231  0.355634 -0.045312\n",
       "17   24.940213 -0.894605  0.257393\n",
       "18   20.840675 -0.098530 -0.705649\n",
       "19   -7.584019 -1.027209  0.004819\n",
       "20   21.047010 -0.499646  1.053855\n",
       "21   33.143638  1.470427 -0.278184\n",
       "22  -13.004777  1.518140  0.814676\n",
       "23  -10.577105 -1.006592  0.510922\n",
       "24   -7.485465  0.132609 -0.376567\n",
       "25  -19.496115 -1.423477 -0.033847\n",
       "26   -4.730987 -0.880017  0.345762\n",
       "27   20.239677 -1.156537 -0.394545\n",
       "28   19.056076  0.365539  1.577925\n",
       "29  -12.570078 -0.375065  1.366823\n",
       "..         ...       ...       ...\n",
       "470  12.909437  0.629062  0.059950\n",
       "471   0.896443  0.457301  0.117861\n",
       "472 -11.286223 -1.308461  0.646422\n",
       "473  20.566203 -1.356938 -1.175349\n",
       "474  30.053966  0.469080 -0.534669\n",
       "475  -4.520639 -0.547188  0.030926\n",
       "476   2.823607 -1.046109  0.873054\n",
       "477  -6.877602 -1.032362 -1.520307\n",
       "478 -14.377546 -0.409121 -1.151336\n",
       "479  -9.164406  1.547143  0.863451\n",
       "480 -15.771894  0.059826  0.732064\n",
       "481 -12.364507  0.749672 -0.657227\n",
       "482   7.715782 -0.139071  0.314902\n",
       "483   2.635636 -0.038101  0.546877\n",
       "484  12.081582  0.380879 -0.838074\n",
       "485  -7.429301  0.514072 -1.356791\n",
       "486   7.148083 -0.756398 -0.194669\n",
       "487 -32.715184 -0.664679  0.218732\n",
       "488  -4.633424  0.899140  0.443062\n",
       "489  13.323050  1.104779 -0.096388\n",
       "490   1.466242 -0.413078 -0.150653\n",
       "491 -20.935309 -0.693087 -0.320978\n",
       "492   6.100508  1.849924 -0.902112\n",
       "493   4.088808 -0.466100 -1.137503\n",
       "494  13.886258 -0.923380 -1.091460\n",
       "495  -1.905964 -0.198961  1.075404\n",
       "496 -17.025146 -0.340886  0.569404\n",
       "497   0.708082  0.476024  0.494377\n",
       "498 -10.806926 -0.916548 -0.160882\n",
       "499 -15.729891  0.490177  0.995029\n",
       "\n",
       "[500 rows x 3 columns]"
      ]
     },
     "execution_count": 5,
     "metadata": {},
     "output_type": "execute_result"
    }
   ],
   "source": [
    "## Columns operations\n",
    "data.X = data.X * 20\n",
    "data"
   ]
  },
  {
   "cell_type": "code",
   "execution_count": 29,
   "metadata": {},
   "outputs": [
    {
     "data": {
      "text/html": [
       "<div>\n",
       "<style scoped>\n",
       "    .dataframe tbody tr th:only-of-type {\n",
       "        vertical-align: middle;\n",
       "    }\n",
       "\n",
       "    .dataframe tbody tr th {\n",
       "        vertical-align: top;\n",
       "    }\n",
       "\n",
       "    .dataframe thead th {\n",
       "        text-align: right;\n",
       "    }\n",
       "</style>\n",
       "<table border=\"1\" class=\"dataframe\">\n",
       "  <thead>\n",
       "    <tr style=\"text-align: right;\">\n",
       "      <th></th>\n",
       "      <th>X</th>\n",
       "      <th>Y</th>\n",
       "      <th>Z</th>\n",
       "      <th>New</th>\n",
       "      <th>label</th>\n",
       "    </tr>\n",
       "  </thead>\n",
       "  <tbody>\n",
       "    <tr>\n",
       "      <th>0</th>\n",
       "      <td>-28.083407</td>\n",
       "      <td>0.114512</td>\n",
       "      <td>1.254152</td>\n",
       "      <td>0.018078</td>\n",
       "      <td>1</td>\n",
       "    </tr>\n",
       "    <tr>\n",
       "      <th>1</th>\n",
       "      <td>23.791847</td>\n",
       "      <td>-1.140142</td>\n",
       "      <td>1.736201</td>\n",
       "      <td>0.920196</td>\n",
       "      <td>1</td>\n",
       "    </tr>\n",
       "    <tr>\n",
       "      <th>2</th>\n",
       "      <td>34.125978</td>\n",
       "      <td>0.528152</td>\n",
       "      <td>-0.450680</td>\n",
       "      <td>0.335671</td>\n",
       "      <td>1</td>\n",
       "    </tr>\n",
       "    <tr>\n",
       "      <th>3</th>\n",
       "      <td>31.799139</td>\n",
       "      <td>1.037004</td>\n",
       "      <td>0.698966</td>\n",
       "      <td>0.086215</td>\n",
       "      <td>1</td>\n",
       "    </tr>\n",
       "    <tr>\n",
       "      <th>4</th>\n",
       "      <td>25.695819</td>\n",
       "      <td>1.279371</td>\n",
       "      <td>0.028194</td>\n",
       "      <td>0.953112</td>\n",
       "      <td>1</td>\n",
       "    </tr>\n",
       "  </tbody>\n",
       "</table>\n",
       "</div>"
      ],
      "text/plain": [
       "           X         Y         Z       New  label\n",
       "0 -28.083407  0.114512  1.254152  0.018078      1\n",
       "1  23.791847 -1.140142  1.736201  0.920196      1\n",
       "2  34.125978  0.528152 -0.450680  0.335671      1\n",
       "3  31.799139  1.037004  0.698966  0.086215      1\n",
       "4  25.695819  1.279371  0.028194  0.953112      1"
      ]
     },
     "execution_count": 29,
     "metadata": {},
     "output_type": "execute_result"
    }
   ],
   "source": [
    "## Adding new label\n",
    "x = np.array([[1,2,3,4,5]])\n",
    "data['label'] = np.repeat(x, 100)\n",
    "\n",
    "data.head()\n",
    "# data.tail()"
   ]
  },
  {
   "cell_type": "markdown",
   "metadata": {
    "slideshow": {
     "slide_type": "slide"
    }
   },
   "source": [
    "<img src='./images/seaborn.png'  width=\"1000\" height=\"1000\"/>"
   ]
  },
  {
   "cell_type": "markdown",
   "metadata": {
    "slideshow": {
     "slide_type": "skip"
    }
   },
   "source": [
    "Python visualization library based on matplotlib. It provides a high-level interface for drawing attractive statistical graphics.\n",
    "\n",
    "Some of the features of seaborn:\n",
    "- Functions for visualizing univariate and bivariate distributions or for comparing them between subsets of data\n",
    "- Tools that fit and visualize linear regression models for different kinds of independent and dependent variables\n",
    "- Functions that visualize matrices of data and use clustering algorithms to discover structure in those matrices\n",
    "- High-level abstractions for structuring grids of plots that let you easily build complex visualizations\n",
    "- Several built-in themes for styling matplotlib graphics\n",
    "- Tools for choosing color palettes to make beautiful plots that reveal patterns in your data"
   ]
  },
  {
   "cell_type": "code",
   "execution_count": 7,
   "metadata": {
    "slideshow": {
     "slide_type": "fragment"
    }
   },
   "outputs": [],
   "source": [
    "import seaborn as sns"
   ]
  },
  {
   "cell_type": "code",
   "execution_count": 22,
   "metadata": {},
   "outputs": [
    {
     "data": {
      "text/plain": [
       "<seaborn.axisgrid.FacetGrid at 0x7f75edf572b0>"
      ]
     },
     "execution_count": 22,
     "metadata": {},
     "output_type": "execute_result"
    },
    {
     "data": {
      "image/png": "[encoded data removed]",
      "text/plain": [
       "<Figure size 576x576 with 1 Axes>"
      ]
     },
     "metadata": {},
     "output_type": "display_data"
    }
   ],
   "source": [
    "g = sns.FacetGrid(data=data, size=8)\n",
    "g.map(plt.scatter, 'X', 'Z')"
   ]
  },
  {
   "cell_type": "code",
   "execution_count": 18,
   "metadata": {},
   "outputs": [
    {
     "data": {
      "image/png": "[encoded data removed]",
      "text/plain": [
       "<Figure size 540x540 with 12 Axes>"
      ]
     },
     "metadata": {},
     "output_type": "display_data"
    }
   ],
   "source": [
    "sns.pairplot(data=data, vars=['X', 'Y', 'Z'] );"
   ]
  },
  {
   "cell_type": "code",
   "execution_count": 40,
   "metadata": {
    "slideshow": {
     "slide_type": "fragment"
    }
   },
   "outputs": [
    {
     "data": {
      "image/png": "[encoded data removed]",
      "text/plain": [
       "<Figure size 582.375x540 with 12 Axes>"
      ]
     },
     "metadata": {},
     "output_type": "display_data"
    }
   ],
   "source": [
    "## Adding hue\n",
    "sns.pairplot(data=data, vars=['X', 'Y', 'Z'], hue='label');"
   ]
  },
  {
   "cell_type": "markdown",
   "metadata": {
    "slideshow": {
     "slide_type": "slide"
    }
   },
   "source": [
    "<img src='./images/datashader.png'  width=\"400\" height=\"400\"/>"
   ]
  },
  {
   "cell_type": "markdown",
   "metadata": {
    "slideshow": {
     "slide_type": "subslide"
    }
   },
   "source": [
    "Datashader is a data rasterization pipeline for automating the process of creating meaningful representations of large amounts of data. Datashader breaks the creation of images of data into 3 main steps:\n",
    "\n",
    "1. Projection - Each record is projected into zero or more bins of a nominal plotting grid shape, based on a specified glyph.\n",
    "\n",
    "2. Aggregation - Reductions are computed for each bin, compressing the potentially large dataset into a much smaller aggregate array.\n",
    "\n",
    "3. Transformation - These aggregates are then further processed, eventually creating an image.\n",
    "\n",
    "Using this very general pipeline, many interesting data visualizations can be created in a performant and scalable way. Datashader contains tools for easily creating these pipelines in a composable manner, using only a few lines of code. Datashader can be used on its own, but it is also designed to work as a pre-processing stage in a plotting library, allowing that library to work with much larger datasets than it would otherwise."
   ]
  },
  {
   "cell_type": "markdown",
   "metadata": {
    "slideshow": {
     "slide_type": "slide"
    }
   },
   "source": [
    "## Ratcave Virtual Reality: Acuity Measurment Project\n",
    "![Image](./images/rat1.gif)"
   ]
  },
  {
   "cell_type": "markdown",
   "metadata": {
    "slideshow": {
     "slide_type": "subslide"
    }
   },
   "source": [
    "# Dataset explenation: position and orientation \n",
    "<img src='./images/position.png'  width=\"400\" height=\"500\"/> | <img src=\"./images/spherical_coordinates.png\"  width=\"500\" height=\"500\"/>"
   ]
  },
  {
   "cell_type": "markdown",
   "metadata": {
    "slideshow": {
     "slide_type": "subslide"
    }
   },
   "source": [
    "## What are we looking for: Stimuli Related Behavior\n",
    "<img src='./images/ratSRB.gif'  width=\"500\" height=\"500\"/>"
   ]
  },
  {
   "cell_type": "markdown",
   "metadata": {
    "slideshow": {
     "slide_type": "slide"
    }
   },
   "source": [
    "# Pitfalls of Large Datasets Vizualization\n",
    "## Goal: Reveal the Underlaying Dataset"
   ]
  },
  {
   "cell_type": "markdown",
   "metadata": {
    "slideshow": {
     "slide_type": "subslide"
    }
   },
   "source": [
    "## Loading The Dataset\n",
    "Another feature of pandas in practice. "
   ]
  },
  {
   "cell_type": "code",
   "execution_count": null,
   "metadata": {
    "slideshow": {
     "slide_type": "fragment"
    }
   },
   "outputs": [],
   "source": [
    "path = 'data/'\n",
    "\n",
    "dfrat     = pd.read_hdf(path+'relationalDatabase.h5', 'Rat_Behavior').set_index('index')\n",
    "dfevent   = pd.read_hdf(path+'relationalDatabase.h5', 'Events').set_index('index')\n",
    "\n",
    "dfrat.head()"
   ]
  },
  {
   "cell_type": "code",
   "execution_count": null,
   "metadata": {
    "slideshow": {
     "slide_type": "fragment"
    }
   },
   "outputs": [],
   "source": [
    "dfrat.describe()"
   ]
  },
  {
   "cell_type": "code",
   "execution_count": null,
   "metadata": {
    "slideshow": {
     "slide_type": "subslide"
    }
   },
   "outputs": [],
   "source": [
    "## Taking the subsection - just for the sake of plotting speed\n",
    "mask = dfrat.session_id == 0\n",
    "rat = dfrat[mask]\n",
    "rat.head()"
   ]
  },
  {
   "cell_type": "code",
   "execution_count": null,
   "metadata": {},
   "outputs": [],
   "source": [
    "mask2 = (dfrat.session_id == 1) | (dfrat.session_id == 2)\n",
    "rat2 = dfrat[mask2]\n",
    "\n",
    "rat2.head(2)"
   ]
  },
  {
   "cell_type": "code",
   "execution_count": null,
   "metadata": {
    "slideshow": {
     "slide_type": "subslide"
    }
   },
   "outputs": [],
   "source": [
    "g = sns.FacetGrid(data=rat, size=8)\n",
    "g.map(plt.scatter,'X_Pos','Z_Pos');"
   ]
  },
  {
   "cell_type": "markdown",
   "metadata": {},
   "source": [
    "## Overplotting "
   ]
  },
  {
   "cell_type": "markdown",
   "metadata": {},
   "source": [
    "- 2 x 2D subsets - two separate experiments, plotted togheter"
   ]
  },
  {
   "cell_type": "code",
   "execution_count": null,
   "metadata": {},
   "outputs": [],
   "source": [
    "g = sns.FacetGrid(data=rat2, size=6, hue='session_id')\n",
    "g.map(plt.scatter,'X_Pos','Z_Pos');\n",
    "plt.legend()\n",
    "\n",
    "g = sns.FacetGrid(data=rat2, size=6, hue='session_id', hue_order=[2,1])\n",
    "g.map(plt.scatter,'X_Pos','Z_Pos');\n",
    "plt.legend()"
   ]
  },
  {
   "cell_type": "markdown",
   "metadata": {},
   "source": [
    "## Apperance depeneds on which one is plotted first!\n",
    "Occlusion of Data -> points plotted on top of one another"
   ]
  },
  {
   "cell_type": "markdown",
   "metadata": {},
   "source": [
    "# Oversaturation "
   ]
  },
  {
   "cell_type": "markdown",
   "metadata": {},
   "source": [
    "Reduce the problem of overplotting by using the transparency parameter. **Alpha**.\n",
    "- if we set alpha=0.1 we need ten points for the color too saturate "
   ]
  },
  {
   "cell_type": "code",
   "execution_count": null,
   "metadata": {},
   "outputs": [],
   "source": [
    "g = sns.FacetGrid(data=rat, size=6)\n",
    "g.map(plt.scatter,'X_Pos','Z_Pos', alpha=0.1);"
   ]
  },
  {
   "cell_type": "code",
   "execution_count": null,
   "metadata": {},
   "outputs": [],
   "source": [
    "g = sns.FacetGrid(data=rat, size=6)\n",
    "g.map(plt.scatter,'X_Pos','Z_Pos', alpha=0.01);"
   ]
  },
  {
   "cell_type": "markdown",
   "metadata": {},
   "source": [
    "+ reduced the effect of points overlap\n",
    "- but it is now harder to see the individual points \n",
    "- we can still see the oversaturation problem, in every point where \n",
    "\n",
    "## What else can we do?"
   ]
  },
  {
   "cell_type": "markdown",
   "metadata": {},
   "source": [
    "## Add another Hyperparameter: point size \n",
    "### And the fine tune both transparency and point size!"
   ]
  },
  {
   "cell_type": "code",
   "execution_count": null,
   "metadata": {},
   "outputs": [],
   "source": [
    "g = sns.FacetGrid(data=rat.sample(20000), size=6)\n",
    "g.map(plt.scatter,'X_Pos','Z_Pos', s=0.9, alpha=0.5);"
   ]
  },
  {
   "cell_type": "code",
   "execution_count": null,
   "metadata": {},
   "outputs": [],
   "source": [
    "g = sns.FacetGrid(data=rat2, size=6, hue='session_id')\n",
    "g.map(plt.scatter,'X_Pos','Z_Pos', s=0.9, alpha=0.1);\n",
    "plt.legend()"
   ]
  },
  {
   "cell_type": "markdown",
   "metadata": {},
   "source": [
    "## Undersampling"
   ]
  },
  {
   "cell_type": "code",
   "execution_count": null,
   "metadata": {},
   "outputs": [],
   "source": [
    "g = sns.FacetGrid(data=rat2.sample(20000), size=6, hue='session_id')\n",
    "g.map(plt.scatter,'X_Pos','Z_Pos', s=0.9, alpha=0.1);\n",
    "plt.legend()"
   ]
  },
  {
   "cell_type": "markdown",
   "metadata": {},
   "source": [
    "## We got better results, but the choice of the two hyperparameters strongly depeneds on the Dataset!"
   ]
  },
  {
   "cell_type": "markdown",
   "metadata": {},
   "source": [
    "# Heatmaps: Undersaturation\n"
   ]
  },
  {
   "cell_type": "code",
   "execution_count": null,
   "metadata": {},
   "outputs": [],
   "source": [
    "from matplotlib import colors\n",
    "\n",
    "def make_heatmap(x, y, bins=20, cmap='viridis', norm=colors.Normalize(), **kwargs):\n",
    "    hist = np.histogram2d(x, y, bins=bins)[0]\n",
    "    return plt.imshow(hist, cmap=cmap, origin='lower', norm=norm)"
   ]
  },
  {
   "cell_type": "code",
   "execution_count": null,
   "metadata": {},
   "outputs": [],
   "source": [
    "g = sns.FacetGrid(data=dfrat, size=6, subplot_kws={cm})\n",
    "g.map(make_heatmap,'X_Pos','Z_Pos', bins=10)"
   ]
  },
  {
   "cell_type": "code",
   "execution_count": null,
   "metadata": {},
   "outputs": [],
   "source": [
    "g = sns.FacetGrid(data=dfrat, size=6)\n",
    "g.map(make_heatmap,'X_Pos','Z_Pos', bins=40)"
   ]
  },
  {
   "cell_type": "code",
   "execution_count": null,
   "metadata": {},
   "outputs": [],
   "source": [
    "g = sns.FacetGrid(data=dfrat, size=6)\n",
    "g.map(make_heatmap,'X_Pos','Z_Pos', bins=20)\n",
    "\n",
    "g = sns.FacetGrid(data=dfrat, size=6)\n",
    "g.map(make_heatmap,'X_Ori','Z_Ori', bins=20)"
   ]
  },
  {
   "cell_type": "markdown",
   "metadata": {
    "slideshow": {
     "slide_type": "slide"
    }
   },
   "source": [
    "# Color Pallete\n",
    "https://seaborn.pydata.org/tutorial/color_palettes.html\n",
    "<img src=\"./images/fire_rainbow.png\"  width=\"500\" height=\"500\"/>\n"
   ]
  },
  {
   "cell_type": "code",
   "execution_count": null,
   "metadata": {
    "slideshow": {
     "slide_type": "subslide"
    }
   },
   "outputs": [],
   "source": [
    "g = sns.FacetGrid(data=dfrat, size=10);\n",
    "# g.map(make_heatmap,'X_Pos','Z_Pos',cmap='viridis_r', bins=20)\n",
    "g.map(make_heatmap,'X_Pos','Z_Pos',cmap='rainbow', bins=20);\n",
    "\n",
    "g = sns.FacetGrid(data=dfrat, size=6)\n",
    "g.map(make_heatmap,'X_Pos','Z_Pos',cmap='icefire_r', bins=20)\n",
    "\n",
    "g = sns.FacetGrid(data=dfrat, size=6)\n",
    "g.map(make_heatmap,'X_Ori','Z_Ori', bins=20)"
   ]
  },
  {
   "cell_type": "code",
   "execution_count": null,
   "metadata": {},
   "outputs": [],
   "source": [
    "import datashader as ds\n",
    "from matplotlib import cm"
   ]
  },
  {
   "cell_type": "code",
   "execution_count": null,
   "metadata": {},
   "outputs": [],
   "source": [
    "cvs = ds.Canvas(plot_height=900, plot_width=900)\n",
    "agg_z =cvs.points(source=dfrat, x='X_Pos', y='Z_Pos', agg=ds.mean('Z_Ori'))\n",
    "agg_x =cvs.points(source=dfrat, x='X_Pos', y='Z_Pos', agg=ds.mean('X_Ori'))\n",
    "\n",
    "\n",
    "# np.linalg.norm(agg)\n",
    "agg_xn = agg_x / np.sqrt(agg_x ** 2 + agg_z ** 2)\n",
    "agg_zn = agg_z / np.sqrt(agg_x ** 2 + agg_z ** 2)\n",
    "\n",
    "theta = np.arctan2(agg_zn, agg_xn)\n",
    "\n",
    "cm.hsv.set_bad('black')\n",
    "plt.figure(figsize=(10, 10))\n",
    "plt.imshow(theta)\n",
    "# plt.imshow(theta, cmap=cm.hsv)\n",
    "plt.xticks([0, 10])\n",
    "\n",
    "plt.colorbar()"
   ]
  },
  {
   "cell_type": "code",
   "execution_count": null,
   "metadata": {},
   "outputs": [],
   "source": [
    "cvs = ds.Canvas(plot_height=900, plot_width=900)\n",
    "agg_z =cvs.points(source=dfrat, x='X_Pos', y='Z_Pos', agg=ds.mean('Z_Ori'))\n",
    "agg_x =cvs.points(source=dfrat, x='X_Pos', y='Z_Pos', agg=ds.mean('X_Ori'))\n",
    "\n",
    "\n",
    "# np.linalg.norm(agg)\n",
    "agg_xn = agg_x / np.sqrt(agg_x ** 2 + agg_z ** 2)\n",
    "agg_zn = agg_z / np.sqrt(agg_x ** 2 + agg_z ** 2)\n",
    "\n",
    "theta = np.arctan2(agg_zn, agg_xn)\n",
    "\n",
    "cm.hsv.set_bad('black')\n",
    "plt.figure(figsize=(10, 10))\n",
    "plt.imshow(theta)\n",
    "plt.imshow(theta, cmap=cm.hsv)\n",
    "plt.xticks([0, 10])\n",
    "\n",
    "plt.colorbar()"
   ]
  },
  {
   "cell_type": "markdown",
   "metadata": {
    "slideshow": {
     "slide_type": "slide"
    }
   },
   "source": [
    "## Stimuli Related Behavior - Results"
   ]
  },
  {
   "cell_type": "code",
   "execution_count": null,
   "metadata": {
    "slideshow": {
     "slide_type": "fragment"
    }
   },
   "outputs": [],
   "source": [
    "## Load Dataset\n",
    "SRB = pd.read_hdf(path+'SRB.h5', 'Rat_Behavior').set_index('index')\n",
    "\n",
    "agg_z =cvs.points(source=SRB, x='X_Pos', y='Z_Pos', agg=ds.mean('Z_Ori'))\n",
    "agg_x =cvs.points(source=SRB, x='X_Pos', y='Z_Pos', agg=ds.mean('X_Ori'))\n",
    "agg_xn = agg_x / np.sqrt(agg_x ** 2 + agg_z ** 2)\n",
    "agg_zn = agg_z / np.sqrt(agg_x ** 2 + agg_z ** 2)\n",
    "\n",
    "theta = np.arctan2(agg_zn, agg_xn)\n",
    "\n",
    "cm.hsv.set_bad('black')\n",
    "plt.figure(figsize=(10, 10))\n",
    "plt.imshow(theta, cmap=cm.hsv)\n",
    "plt.xticks([0, 10])\n",
    "\n",
    "plt.colorbar()"
   ]
  },
  {
   "cell_type": "markdown",
   "metadata": {
    "slideshow": {
     "slide_type": "slide"
    }
   },
   "source": [
    "# Summary:\n",
    "## What should we keep in mind, when working with big datasets:\n",
    "### Scatter plots - 3 hyperparameters:\n",
    "- overplotting  - avoid obsccuring the data\n",
    "- saturation    - 10, 100, 6000 points under 10 points limit\n",
    "- undersampling - taking a subset might not be an answer\n",
    "\n",
    "### Heatmaps - 1 hyperparameter:\n",
    "- undersaturation \n",
    "- pick the color map in accordance to the "
   ]
  },
  {
   "cell_type": "markdown",
   "metadata": {
    "slideshow": {
     "slide_type": "slide"
    }
   },
   "source": [
    "# Extra Examples\n",
    "\n",
    "## Ratcave Arena\n",
    "<img src='./images/rat_control.png'  width=\"500\" height=\"500\"/>"
   ]
  },
  {
   "cell_type": "markdown",
   "metadata": {
    "slideshow": {
     "slide_type": "subslide"
    }
   },
   "source": [
    "## Cliff VR\n",
    "<img src='./images/VRCliff.png'  width=\"500\" height=\"500\"/>"
   ]
  },
  {
   "cell_type": "markdown",
   "metadata": {
    "slideshow": {
     "slide_type": "subslide"
    }
   },
   "source": [
    "## Color Rearing\n",
    "<img src='./images/color_rearing.png'  width=\"500\" height=\"500\"/>"
   ]
  },
  {
   "cell_type": "markdown",
   "metadata": {
    "slideshow": {
     "slide_type": "slide"
    }
   },
   "source": [
    "# Thank you for your attention!"
   ]
  },
  {
   "cell_type": "markdown",
   "metadata": {
    "slideshow": {
     "slide_type": "fragment"
    }
   },
   "source": [
    "<img src=\"./images/pydata.png\"  width=\"500\" height=\"500\"/>"
   ]
  }
 ],
 "metadata": {
  "celltoolbar": "Slideshow",
  "kernelspec": {
   "display_name": "Python 3",
   "language": "python",
   "name": "python3"
  },
  "language_info": {
   "codemirror_mode": {
    "name": "ipython",
    "version": 3
   },
   "file_extension": ".py",
   "mimetype": "text/x-python",
   "name": "python",
   "nbconvert_exporter": "python",
   "pygments_lexer": "ipython3",
   "version": "3.6.5"
  }
 },
 "nbformat": 4,
 "nbformat_minor": 2
}
