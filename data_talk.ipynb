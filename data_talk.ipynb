{
 "cells": [
  {
   "cell_type": "code",
   "execution_count": 1,
   "metadata": {
    "slideshow": {
     "slide_type": "skip"
    }
   },
   "outputs": [],
   "source": [
    "from IPython.display import HTML, IFrame, Image\n",
    "\n",
    "import numpy as np\n",
    "import matplotlib\n",
    "import matplotlib.pyplot as plt\n",
    "\n",
    "import datashader as ds\n",
    "from scipy import stats\n",
    "%matplotlib inline\n",
    "\n",
    "\n",
    "from matplotlib import rcParams, cm\n",
    "rcParams['grid.linewidth'] = 0"
   ]
  },
  {
   "cell_type": "markdown",
   "metadata": {
    "slideshow": {
     "slide_type": "slide"
    }
   },
   "source": [
    "# Visualizing Big Datasets: Tools, Pitfalls, Experimental Example"
   ]
  },
  {
   "cell_type": "markdown",
   "metadata": {
    "slideshow": {
     "slide_type": "fragment"
    }
   },
   "source": [
    "### Importance of Data Visualization - NYC Taxi pick-upp data"
   ]
  },
  {
   "cell_type": "markdown",
   "metadata": {
    "slideshow": {
     "slide_type": "fragment"
    }
   },
   "source": [
    "<img src=\"./images/nyc_pickups_vs_dropoffs.jpg\"  width=\"900\" height=\"900\"/>"
   ]
  },
  {
   "cell_type": "markdown",
   "metadata": {
    "slideshow": {
     "slide_type": "slide"
    }
   },
   "source": [
    "# Plotting very large datasets meaningfully"
   ]
  },
  {
   "cell_type": "markdown",
   "metadata": {
    "slideshow": {
     "slide_type": "fragment"
    }
   },
   "source": [
    "\n",
    "\n",
    "- to provide clear understanding\n",
    "- to aid decision making \n",
    "\n",
    "### We can always look at statistics, but with big dataset visualization can get a good feeling!"
   ]
  },
  {
   "cell_type": "markdown",
   "metadata": {
    "slideshow": {
     "slide_type": "notes"
    }
   },
   "source": [
    "When working with large datasets, visualizations are often the only way available to understand the properties of that dataset -- there are simply too many data points to examine each one!  Thus it is very important to be aware of some common plotting problems that are minor inconveniences with small datasets but very serious problems with larger ones."
   ]
  },
  {
   "cell_type": "markdown",
   "metadata": {
    "slideshow": {
     "slide_type": "subslide"
    }
   },
   "source": [
    "<img src=\"./images/6-blind-men-hans.jpg\"  width=\"1100\" height=\"1100\"/>"
   ]
  },
  {
   "cell_type": "markdown",
   "metadata": {
    "slideshow": {
     "slide_type": "subslide"
    }
   },
   "source": [
    "## Visualization Bias: Same Data, Different Visualization\n",
    "<img src=\"./images/chart_comb.png\"  width=\"1000\" height=\"1000\"/>\n",
    "<img src=\"./images/chart_comb2.png\"  width=\"1000\" height=\"1000\"/>"
   ]
  },
  {
   "cell_type": "markdown",
   "metadata": {
    "slideshow": {
     "slide_type": "subslide"
    }
   },
   "source": [
    "<img src=\"./images/index.jpeg\"  width=\"700\" height=\"700\"/> \n",
    "<img src=\"./images/python-graph-gallery1-609.jpg\"  width=\"1000\" height=\"1000\"/>\n",
    "https://python-graph-gallery.com/"
   ]
  },
  {
   "cell_type": "markdown",
   "metadata": {
    "slideshow": {
     "slide_type": "slide"
    }
   },
   "source": [
    "# Presentation Outine:\n",
    "- Tools introduction\n",
    "- Ratcave VR Acuity introduction\n",
    "- Pitfalls of Large Datasets Vizualization with Real Data Example"
   ]
  },
  {
   "cell_type": "markdown",
   "metadata": {
    "slideshow": {
     "slide_type": "subslide"
    }
   },
   "source": [
    "# Tools: Pandas, Seaborn, Datashader"
   ]
  },
  {
   "cell_type": "markdown",
   "metadata": {
    "slideshow": {
     "slide_type": "subslide"
    }
   },
   "source": [
    "![Image](./images/pandas.png)"
   ]
  },
  {
   "cell_type": "markdown",
   "metadata": {
    "slideshow": {
     "slide_type": "fragment"
    }
   },
   "source": [
    "Python Library providing high-performance data manipulation and analysis tool using powerful data structures"
   ]
  },
  {
   "cell_type": "markdown",
   "metadata": {
    "slideshow": {
     "slide_type": "fragment"
    }
   },
   "source": [
    "- DataFrame objects, with customazed and default indexing \n",
    "- Loading data into in-memory data object\n",
    "- Data alignment and handling of missing data.\n",
    "- Reshaping, operations on columns\n",
    "- Group by data, mergeging and joining of data\n",
    "- Time Series functionality."
   ]
  },
  {
   "cell_type": "code",
   "execution_count": null,
   "metadata": {
    "slideshow": {
     "slide_type": "fragment"
    }
   },
   "outputs": [],
   "source": [
    "import pandas as pd"
   ]
  },
  {
   "cell_type": "markdown",
   "metadata": {
    "slideshow": {
     "slide_type": "subslide"
    }
   },
   "source": [
    "### Creating structured dataset"
   ]
  },
  {
   "cell_type": "code",
   "execution_count": null,
   "metadata": {
    "slideshow": {
     "slide_type": "fragment"
    }
   },
   "outputs": [],
   "source": [
    "data = pd.DataFrame(np.random.randn(500,3), columns=list('XYZ'))\n",
    "data.head()"
   ]
  },
  {
   "cell_type": "markdown",
   "metadata": {
    "slideshow": {
     "slide_type": "subslide"
    }
   },
   "source": [
    "###  Operations on columns"
   ]
  },
  {
   "cell_type": "code",
   "execution_count": null,
   "metadata": {
    "slideshow": {
     "slide_type": "fragment"
    }
   },
   "outputs": [],
   "source": [
    "data.X = data.X * 20\n",
    "data.head()"
   ]
  },
  {
   "cell_type": "markdown",
   "metadata": {
    "slideshow": {
     "slide_type": "subslide"
    }
   },
   "source": [
    "### Adding new column: label"
   ]
  },
  {
   "cell_type": "code",
   "execution_count": null,
   "metadata": {
    "slideshow": {
     "slide_type": "fragment"
    }
   },
   "outputs": [],
   "source": [
    "x = np.array([[1,2,3,4,5]])\n",
    "data['label'] = np.repeat(x, 100)\n",
    "\n",
    "data.head()"
   ]
  },
  {
   "cell_type": "markdown",
   "metadata": {
    "slideshow": {
     "slide_type": "slide"
    }
   },
   "source": [
    "\n",
    "<img src='./images/seaborn.png'  width=\"1000\" height=\"1000\"/>\n"
   ]
  },
  {
   "cell_type": "markdown",
   "metadata": {
    "slideshow": {
     "slide_type": "fragment"
    }
   },
   "source": [
    "Python visualization library based on matplotlib. It provides a high-level interface for drawing attractive statistical graphics.\n",
    "\n",
    "- Visualizing univariate and bivariate distributions and comparing them between subsets of data\n",
    "- Tools that fit and visualize linear regression models\n",
    "- Functions that visualize matrices of data\n",
    "- Several built-in themes for styling matplotlib graphics\n",
    "- Tools for choosing color palettes - to reveal patterns in your data"
   ]
  },
  {
   "cell_type": "code",
   "execution_count": null,
   "metadata": {
    "slideshow": {
     "slide_type": "fragment"
    }
   },
   "outputs": [],
   "source": [
    "import seaborn as sns"
   ]
  },
  {
   "cell_type": "code",
   "execution_count": null,
   "metadata": {
    "slideshow": {
     "slide_type": "subslide"
    }
   },
   "outputs": [],
   "source": [
    "g = sns.FacetGrid(data=data, size=8)\n",
    "g.map(plt.scatter, 'X', 'Z')"
   ]
  },
  {
   "cell_type": "code",
   "execution_count": null,
   "metadata": {
    "slideshow": {
     "slide_type": "subslide"
    }
   },
   "outputs": [],
   "source": [
    "sns.pairplot(data=data, vars=['X', 'Y', 'Z'] );"
   ]
  },
  {
   "cell_type": "code",
   "execution_count": null,
   "metadata": {
    "slideshow": {
     "slide_type": "subslide"
    }
   },
   "outputs": [],
   "source": [
    "## Adding hue\n",
    "sns.pairplot(data=data, vars=['X', 'Y', 'Z'], hue='label');"
   ]
  },
  {
   "cell_type": "markdown",
   "metadata": {
    "slideshow": {
     "slide_type": "slide"
    }
   },
   "source": [
    "<img src='./images/datashader.png'  width=\"700\" height=\"700\"/>"
   ]
  },
  {
   "cell_type": "markdown",
   "metadata": {
    "slideshow": {
     "slide_type": "subslide"
    }
   },
   "source": [
    "# Datashader\n",
    "Datashader is a Python library for analyzing and visualizing large datasets. Designed to **\"rasterize\"** or **\"aggregate\"** datasets into regular grids that can be viewed as images. \n",
    "Datashader breaks the creation of images of data into 3 main steps:\n",
    "\n",
    "1. Projection - Each record is projected into zero or more bins of a  grid shape.\n",
    "\n",
    "2. Aggregation - Reductions are computed for each bin, compressing the potentially large dataset into a much smaller aggregate array.\n",
    "\n",
    "3. Transformation - These aggregates are then further processed, eventually creating an image.\n"
   ]
  },
  {
   "cell_type": "markdown",
   "metadata": {
    "slideshow": {
     "slide_type": "slide"
    }
   },
   "source": [
    "## Ratcave Virtual Reality: Acuity Measurment Project\n",
    "<img src='./images/rat1.gif'  width=\"900\" height=\"900\" align=\"center\"/>"
   ]
  },
  {
   "cell_type": "markdown",
   "metadata": {
    "slideshow": {
     "slide_type": "subslide"
    }
   },
   "source": [
    "# Dataset explenation: position and orientation \n",
    "<img src='./images/position.png'  width=\"400\" height=\"500\" align=\"center\"/>\n",
    "<img src=\"./images/spherical_coordinates.png\"  width=\"500\" height=\"500\" align=\"center\"/>"
   ]
  },
  {
   "cell_type": "markdown",
   "metadata": {
    "slideshow": {
     "slide_type": "subslide"
    }
   },
   "source": [
    "## What are we looking for: Stimuli Related Behavior\n",
    "<img src='./images/ratSRB.gif'  width=\"900\" height=\"900\" align=\"center\"/>"
   ]
  },
  {
   "cell_type": "markdown",
   "metadata": {
    "slideshow": {
     "slide_type": "slide"
    }
   },
   "source": [
    "# Pitfalls of Large Datasets Vizualization\n",
    "## Goal: Reveal the Underlaying Dataset"
   ]
  },
  {
   "cell_type": "markdown",
   "metadata": {
    "slideshow": {
     "slide_type": "subslide"
    }
   },
   "source": [
    "## Loading The Dataset\n",
    "Another feature of pandas in practice. "
   ]
  },
  {
   "cell_type": "code",
   "execution_count": null,
   "metadata": {
    "slideshow": {
     "slide_type": "fragment"
    }
   },
   "outputs": [],
   "source": [
    "path = 'data/'\n",
    "\n",
    "dfrat     = pd.read_hdf(path+'relationalDatabase.h5', 'Rat_Behavior').set_index('index')\n",
    "dfevent   = pd.read_hdf(path+'relationalDatabase.h5', 'Events').set_index('index')\n",
    "\n",
    "dfrat.head(5)"
   ]
  },
  {
   "cell_type": "code",
   "execution_count": null,
   "metadata": {
    "slideshow": {
     "slide_type": "fragment"
    }
   },
   "outputs": [],
   "source": [
    "dfrat.describe()"
   ]
  },
  {
   "cell_type": "markdown",
   "metadata": {
    "slideshow": {
     "slide_type": "subslide"
    }
   },
   "source": [
    "## Taking the subsection - for the sake of plotting speed"
   ]
  },
  {
   "cell_type": "code",
   "execution_count": null,
   "metadata": {
    "slideshow": {
     "slide_type": "fragment"
    }
   },
   "outputs": [],
   "source": [
    "mask = dfrat.session_id == 0\n",
    "rat = dfrat[mask]\n",
    "rat.head()"
   ]
  },
  {
   "cell_type": "code",
   "execution_count": null,
   "metadata": {
    "slideshow": {
     "slide_type": "fragment"
    }
   },
   "outputs": [],
   "source": [
    "mask2 = (dfrat.session_id == 1) | (dfrat.session_id == 2)\n",
    "rat2 = dfrat[mask2]\n",
    "\n",
    "rat2.head(2)"
   ]
  },
  {
   "cell_type": "code",
   "execution_count": null,
   "metadata": {
    "slideshow": {
     "slide_type": "subslide"
    }
   },
   "outputs": [],
   "source": [
    "g = sns.FacetGrid(data=rat, size=8)\n",
    "g.map(plt.scatter,'X_Pos','Z_Pos');"
   ]
  },
  {
   "cell_type": "markdown",
   "metadata": {
    "slideshow": {
     "slide_type": "slide"
    }
   },
   "source": [
    "## Overplotting "
   ]
  },
  {
   "cell_type": "markdown",
   "metadata": {
    "slideshow": {
     "slide_type": "fragment"
    }
   },
   "source": [
    "- 2 x 2D subsets - two separate experiments, plotted togheter"
   ]
  },
  {
   "cell_type": "code",
   "execution_count": null,
   "metadata": {
    "slideshow": {
     "slide_type": "subslide"
    }
   },
   "outputs": [],
   "source": [
    "g = sns.FacetGrid(data=rat2, size=8, hue='session_id')\n",
    "g.map(plt.scatter,'X_Pos','Z_Pos');\n",
    "plt.legend();"
   ]
  },
  {
   "cell_type": "code",
   "execution_count": null,
   "metadata": {
    "slideshow": {
     "slide_type": "subslide"
    }
   },
   "outputs": [],
   "source": [
    "g = sns.FacetGrid(data=rat2, size=8, hue='session_id', hue_order=[2,1], col_order=['orange', 'blue'])\n",
    "g.map(plt.scatter,'X_Pos','Z_Pos');\n",
    "plt.legend();"
   ]
  },
  {
   "cell_type": "markdown",
   "metadata": {
    "slideshow": {
     "slide_type": "fragment"
    }
   },
   "source": [
    "## Apperance depeneds on which one is plotted first!\n",
    "### Occlusion of Data - points plotted on top of one another"
   ]
  },
  {
   "cell_type": "markdown",
   "metadata": {
    "slideshow": {
     "slide_type": "slide"
    }
   },
   "source": [
    "# Oversaturation "
   ]
  },
  {
   "cell_type": "markdown",
   "metadata": {
    "slideshow": {
     "slide_type": "fragment"
    }
   },
   "source": [
    "Reduce the problem of overplotting by using the transparency parameter.\n",
    "\n",
    "**Alpha** - if we set alpha=0.1 we need ten points for the color too saturate "
   ]
  },
  {
   "cell_type": "code",
   "execution_count": null,
   "metadata": {
    "slideshow": {
     "slide_type": "subslide"
    }
   },
   "outputs": [],
   "source": [
    "g = sns.FacetGrid(data=rat, size=8)\n",
    "g.map(plt.scatter,'X_Pos','Z_Pos', alpha=0.1);"
   ]
  },
  {
   "cell_type": "code",
   "execution_count": null,
   "metadata": {
    "slideshow": {
     "slide_type": "subslide"
    }
   },
   "outputs": [],
   "source": [
    "g = sns.FacetGrid(data=rat, size=8)\n",
    "g.map(plt.scatter,'X_Pos','Z_Pos', alpha=0.01);"
   ]
  },
  {
   "cell_type": "markdown",
   "metadata": {
    "slideshow": {
     "slide_type": "subslide"
    }
   },
   "source": [
    "+ reduced the effect of points overlap\n",
    "- but it is now harder to see the individual points \n",
    "- we can still see the oversaturation problem, in every point where \n",
    "\n",
    "## What else can we do?"
   ]
  },
  {
   "cell_type": "markdown",
   "metadata": {
    "slideshow": {
     "slide_type": "slide"
    }
   },
   "source": [
    "## Add another Hyperparameter:    point size \n",
    "### And then fine tune both transparency and point size!"
   ]
  },
  {
   "cell_type": "code",
   "execution_count": null,
   "metadata": {
    "slideshow": {
     "slide_type": "subslide"
    }
   },
   "outputs": [],
   "source": [
    "g = sns.FacetGrid(data=rat.sample(20000), size=8)\n",
    "g.map(plt.scatter,'X_Pos','Z_Pos', s=0.9, alpha=0.5);"
   ]
  },
  {
   "cell_type": "code",
   "execution_count": null,
   "metadata": {
    "slideshow": {
     "slide_type": "subslide"
    }
   },
   "outputs": [],
   "source": [
    "g = sns.FacetGrid(data=rat2, size=8, hue='session_id')\n",
    "g.map(plt.scatter,'X_Pos','Z_Pos', s=0.9, alpha=0.1);\n",
    "plt.legend();"
   ]
  },
  {
   "cell_type": "markdown",
   "metadata": {
    "slideshow": {
     "slide_type": "slide"
    }
   },
   "source": [
    "## Undersampling"
   ]
  },
  {
   "cell_type": "code",
   "execution_count": null,
   "metadata": {
    "slideshow": {
     "slide_type": "subslide"
    }
   },
   "outputs": [],
   "source": [
    "g = sns.FacetGrid(data=rat2.sample(40000), size=8, hue='session_id')\n",
    "g.map(plt.scatter,'X_Pos','Z_Pos', s=0.9, alpha=0.1);\n",
    "plt.legend();"
   ]
  },
  {
   "cell_type": "markdown",
   "metadata": {
    "slideshow": {
     "slide_type": "fragment"
    }
   },
   "source": [
    "## We got better results, but the choice of the two hyperparameters strongly depeneds on the Dataset!"
   ]
  },
  {
   "cell_type": "markdown",
   "metadata": {
    "slideshow": {
     "slide_type": "slide"
    }
   },
   "source": [
    "# Heatmaps: Undersaturation\n"
   ]
  },
  {
   "cell_type": "code",
   "execution_count": null,
   "metadata": {
    "slideshow": {
     "slide_type": "subslide"
    }
   },
   "outputs": [],
   "source": [
    "from matplotlib import colors\n",
    "\n",
    "def make_heatmap(x, y, bins=20, cmap='viridis', norm=colors.Normalize(), **kwargs):\n",
    "    hist = np.histogram2d(x, y, bins=bins)[0]\n",
    "    return plt.imshow(hist, cmap=cmap, origin='lower', norm=norm)"
   ]
  },
  {
   "cell_type": "code",
   "execution_count": null,
   "metadata": {
    "slideshow": {
     "slide_type": "subslide"
    }
   },
   "outputs": [],
   "source": [
    "g = sns.FacetGrid(data=dfrat, size=8)\n",
    "g.map(make_heatmap,'X_Pos','Z_Pos', bins=10);"
   ]
  },
  {
   "cell_type": "code",
   "execution_count": null,
   "metadata": {
    "slideshow": {
     "slide_type": "subslide"
    }
   },
   "outputs": [],
   "source": [
    "g = sns.FacetGrid(data=dfrat, size=8)\n",
    "g.map(make_heatmap,'X_Ori','Z_Ori', bins=20);"
   ]
  },
  {
   "cell_type": "markdown",
   "metadata": {
    "slideshow": {
     "slide_type": "slide"
    }
   },
   "source": [
    "# Color Pallete\n",
    "https://seaborn.pydata.org/tutorial/color_palettes.html\n",
    "<img src=\"./images/fire_rainbow.png\"  width=\"500\" height=\"500\"/>\n"
   ]
  },
  {
   "cell_type": "code",
   "execution_count": null,
   "metadata": {
    "slideshow": {
     "slide_type": "subslide"
    }
   },
   "outputs": [],
   "source": [
    "# viridis_r, rainbow, icefire_r\n",
    "g = sns.FacetGrid(data=dfrat, size=8);\n",
    "g.map(make_heatmap,'X_Ori','Z_Ori', cmap='viridis', bins=20);"
   ]
  },
  {
   "cell_type": "markdown",
   "metadata": {
    "slideshow": {
     "slide_type": "slide"
    }
   },
   "source": [
    "# Taking it a step further!"
   ]
  },
  {
   "cell_type": "code",
   "execution_count": null,
   "metadata": {
    "slideshow": {
     "slide_type": "subslide"
    }
   },
   "outputs": [],
   "source": [
    "cvs = ds.Canvas(plot_height=900, plot_width=900)\n",
    "agg_z =cvs.points(source=dfrat, x='X_Pos', y='Z_Pos', agg=ds.mean('Z_Ori'))\n",
    "agg_x =cvs.points(source=dfrat, x='X_Pos', y='Z_Pos', agg=ds.mean('X_Ori'))\n",
    "agg_xn = agg_x / np.sqrt(agg_x ** 2 + agg_z ** 2)\n",
    "agg_zn = agg_z / np.sqrt(agg_x ** 2 + agg_z ** 2)\n",
    "theta = np.arctan2(agg_zn, agg_xn)\n",
    "cm.hsv.set_bad('black')\n",
    "plt.figure(figsize=(10, 10))\n",
    "plt.imshow(theta)\n",
    "plt.xticks([0, 10])\n",
    "plt.colorbar();"
   ]
  },
  {
   "cell_type": "code",
   "execution_count": null,
   "metadata": {
    "slideshow": {
     "slide_type": "subslide"
    }
   },
   "outputs": [],
   "source": [
    "cvs = ds.Canvas(plot_height=900, plot_width=900)\n",
    "agg_z =cvs.points(source=dfrat, x='X_Pos', y='Z_Pos', agg=ds.mean('Z_Ori'))\n",
    "agg_x =cvs.points(source=dfrat, x='X_Pos', y='Z_Pos', agg=ds.mean('X_Ori'))\n",
    "agg_xn = agg_x / np.sqrt(agg_x ** 2 + agg_z ** 2)\n",
    "agg_zn = agg_z / np.sqrt(agg_x ** 2 + agg_z ** 2)\n",
    "theta = np.arctan2(agg_zn, agg_xn)\n",
    "cm.hsv.set_bad('black')\n",
    "plt.figure(figsize=(10, 10))\n",
    "plt.imshow(theta)\n",
    "plt.imshow(theta, cmap=cm.hsv)\n",
    "plt.xticks([0, 10])\n",
    "plt.colorbar();"
   ]
  },
  {
   "cell_type": "markdown",
   "metadata": {
    "slideshow": {
     "slide_type": "subslide"
    }
   },
   "source": [
    "<img src='./images/1.png'  width=\"1000\" height=\"1000\" align=\"center\"/>"
   ]
  },
  {
   "cell_type": "code",
   "execution_count": null,
   "metadata": {
    "slideshow": {
     "slide_type": "subslide"
    }
   },
   "outputs": [],
   "source": [
    "SRB = pd.read_hdf(path+'SRB.h5', 'Rat_Behavior').set_index('index')\n",
    "agg_z =cvs.points(source=SRB, x='X_Pos', y='Z_Pos', agg=ds.mean('Z_Ori'))\n",
    "agg_x =cvs.points(source=SRB, x='X_Pos', y='Z_Pos', agg=ds.mean('X_Ori'))\n",
    "agg_xn = agg_x / np.sqrt(agg_x ** 2 + agg_z ** 2)\n",
    "agg_zn = agg_z / np.sqrt(agg_x ** 2 + agg_z ** 2)\n",
    "theta = np.arctan2(agg_zn, agg_xn)\n",
    "cm.hsv.set_bad('black')\n",
    "plt.figure(figsize=(10, 10))\n",
    "plt.imshow(theta, cmap=cm.hsv)\n",
    "plt.xticks([0, 10])\n",
    "plt.colorbar();"
   ]
  },
  {
   "cell_type": "markdown",
   "metadata": {
    "slideshow": {
     "slide_type": "slide"
    }
   },
   "source": [
    "# Summary:\n",
    "## What should we keep in mind, when working with big datasets:\n",
    "### Scatter plots - 3 hyperparameters:\n",
    "- overplotting  - avoid obsccuring the data\n",
    "- saturation    - 10, 100, 6000 points under 10 points limit\n",
    "- undersampling - taking a subset might not be an answer\n",
    "\n",
    "### Heatmaps - 1 hyperparameter:\n",
    "- undersaturation \n",
    "- pick the color map in accordance to the "
   ]
  },
  {
   "cell_type": "markdown",
   "metadata": {
    "slideshow": {
     "slide_type": "slide"
    }
   },
   "source": [
    "\n",
    "# Extra Examples\n",
    "\n",
    "## Ratcave Arena\n",
    "<img src='./images/rat_control.png'  width=\"900\" height=\"900\" align=\"center\"/>"
   ]
  },
  {
   "cell_type": "markdown",
   "metadata": {
    "slideshow": {
     "slide_type": "subslide"
    }
   },
   "source": [
    "## Color Rearing\n",
    "<img src='./images/color_rearing.png'  width=\"1000\" height=\"1000\" align=\"center\"/>"
   ]
  },
  {
   "cell_type": "markdown",
   "metadata": {
    "slideshow": {
     "slide_type": "slide"
    }
   },
   "source": [
    "# Thank you for your attention!"
   ]
  },
  {
   "cell_type": "markdown",
   "metadata": {
    "slideshow": {
     "slide_type": "fragment"
    }
   },
   "source": [
    "<img src=\"./images/pydata.png\"  width=\"600\" height=\"600\"/>"
   ]
  },
  {
   "cell_type": "markdown",
   "metadata": {
    "slideshow": {
     "slide_type": "fragment"
    }
   },
   "source": [
    "<img src=\"./images/lmulogo3.png\"  width=\"500\" height=\"500\"/>"
   ]
  }
 ],
 "metadata": {
  "celltoolbar": "Slideshow",
  "kernelspec": {
   "display_name": "Python 3",
   "language": "python",
   "name": "python3"
  },
  "language_info": {
   "codemirror_mode": {
    "name": "ipython",
    "version": 3
   },
   "file_extension": ".py",
   "mimetype": "text/x-python",
   "name": "python",
   "nbconvert_exporter": "python",
   "pygments_lexer": "ipython3",
   "version": "3.6.5"
  }
 },
 "nbformat": 4,
 "nbformat_minor": 2
}
